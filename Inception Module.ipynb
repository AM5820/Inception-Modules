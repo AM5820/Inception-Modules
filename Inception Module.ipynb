{
 "cells": [
  {
   "cell_type": "code",
   "execution_count": 1,
   "metadata": {},
   "outputs": [],
   "source": [
    "import numpy as np\n",
    "import pandas as pd\n",
    "import matplotlib.pyplot as plt\n",
    "import seaborn as sns\n",
    "import glob\n",
    "import random\n",
    "import shutil"
   ]
  },
  {
   "cell_type": "code",
   "execution_count": 54,
   "metadata": {},
   "outputs": [],
   "source": [
    "import tensorflow as tf\n",
    "import keras\n",
    "from keras.preprocessing.image import ImageDataGenerator\n",
    "from tensorflow.keras.layers import InputLayer,Conv2D,MaxPool2D,Dense,Flatten,Dropout,concatenate,BatchNormalization\n",
    "from tensorflow.keras.models import Sequential,Model\n",
    "from tensorflow.keras.optimizers import Adam\n",
    "from keras.preprocessing.image import image\n",
    "from keras.applications.vgg16 import preprocess_input,decode_predictions\n",
    "from keras.utils import np_utils"
   ]
  },
  {
   "cell_type": "markdown",
   "metadata": {},
   "source": [
    "## Classical CNN"
   ]
  },
  {
   "cell_type": "markdown",
   "metadata": {},
   "source": [
    "## preprocessing"
   ]
  },
  {
   "cell_type": "code",
   "execution_count": 57,
   "metadata": {},
   "outputs": [],
   "source": [
    "from keras.datasets import mnist"
   ]
  },
  {
   "cell_type": "code",
   "execution_count": 58,
   "metadata": {},
   "outputs": [],
   "source": [
    "(x_train,y_train),(x_test,y_test) = mnist.load_data()"
   ]
  },
  {
   "cell_type": "code",
   "execution_count": 59,
   "metadata": {},
   "outputs": [
    {
     "data": {
      "text/plain": [
       "(60000, 28, 28)"
      ]
     },
     "execution_count": 59,
     "metadata": {},
     "output_type": "execute_result"
    }
   ],
   "source": [
    "x_train.shape"
   ]
  },
  {
   "cell_type": "code",
   "execution_count": 60,
   "metadata": {},
   "outputs": [],
   "source": [
    "x_train = x_train.reshape(len(x_train),x_train.shape[1],x_train.shape[2],1)\n",
    "x_test = x_test.reshape(len(x_test),x_test.shape[1],x_test.shape[2],1)"
   ]
  },
  {
   "cell_type": "code",
   "execution_count": 61,
   "metadata": {},
   "outputs": [],
   "source": [
    "x_train= x_train/255.0\n",
    "x_test = x_test/255.0"
   ]
  },
  {
   "cell_type": "code",
   "execution_count": null,
   "metadata": {},
   "outputs": [],
   "source": [
    "y_train = np_utils.to_categorical(y_train)\n",
    "y_test = np_utils.to_categorical(y_test)"
   ]
  },
  {
   "cell_type": "markdown",
   "metadata": {},
   "source": [
    "## Building model"
   ]
  },
  {
   "cell_type": "code",
   "execution_count": 94,
   "metadata": {},
   "outputs": [],
   "source": [
    "model = Sequential()\n",
    "\n",
    "model.add(Conv2D(filters=32 , kernel_size=3 , activation = 'relu' ,input_shape=x_train[0].shape))\n",
    "model.add(MaxPool2D(pool_size=2,strides=2))\n",
    "\n",
    "model.add(BatchNormalization())\n",
    "\n",
    "model.add(Flatten())\n",
    "\n",
    "model.add(Dense(units=512,activation='relu'))\n",
    "model.add(Dense(units=10 , activation='softmax'))"
   ]
  },
  {
   "cell_type": "code",
   "execution_count": 95,
   "metadata": {},
   "outputs": [
    {
     "name": "stdout",
     "output_type": "stream",
     "text": [
      "Model: \"sequential_21\"\n",
      "_________________________________________________________________\n",
      "Layer (type)                 Output Shape              Param #   \n",
      "=================================================================\n",
      "conv2d_60 (Conv2D)           (None, 26, 26, 32)        320       \n",
      "_________________________________________________________________\n",
      "max_pooling2d_29 (MaxPooling (None, 13, 13, 32)        0         \n",
      "_________________________________________________________________\n",
      "batch_normalization_21 (Batc (None, 13, 13, 32)        128       \n",
      "_________________________________________________________________\n",
      "flatten_8 (Flatten)          (None, 5408)              0         \n",
      "_________________________________________________________________\n",
      "dense_16 (Dense)             (None, 512)               2769408   \n",
      "_________________________________________________________________\n",
      "dense_17 (Dense)             (None, 10)                5130      \n",
      "=================================================================\n",
      "Total params: 2,774,986\n",
      "Trainable params: 2,774,922\n",
      "Non-trainable params: 64\n",
      "_________________________________________________________________\n"
     ]
    }
   ],
   "source": [
    "model.summary()"
   ]
  },
  {
   "cell_type": "code",
   "execution_count": 96,
   "metadata": {},
   "outputs": [],
   "source": [
    "model.compile(optimizer='Adam',loss='categorical_crossentropy',metrics=['acc'])"
   ]
  },
  {
   "cell_type": "code",
   "execution_count": 97,
   "metadata": {},
   "outputs": [
    {
     "name": "stdout",
     "output_type": "stream",
     "text": [
      "Epoch 1/2\n",
      "1875/1875 [==============================] - 88s 47ms/step - loss: 0.1099 - acc: 0.9668 - val_loss: 0.0717 - val_acc: 0.9804\n",
      "Epoch 2/2\n",
      "1875/1875 [==============================] - 79s 42ms/step - loss: 0.0382 - acc: 0.9879 - val_loss: 0.0684 - val_acc: 0.9803\n"
     ]
    },
    {
     "data": {
      "text/plain": [
       "<tensorflow.python.keras.callbacks.History at 0x22faca97fd0>"
      ]
     },
     "execution_count": 97,
     "metadata": {},
     "output_type": "execute_result"
    }
   ],
   "source": [
    "model.fit(x_train,y_train,validation_data=(x_test,y_test),batch_size=32,epochs=2)"
   ]
  },
  {
   "cell_type": "markdown",
   "metadata": {},
   "source": [
    "## Inception Modules"
   ]
  },
  {
   "cell_type": "code",
   "execution_count": 127,
   "metadata": {},
   "outputs": [],
   "source": [
    "input_img = Input(shape =(x_train[0].shape))\n",
    "\n",
    "tower1    = Conv2D(filters=32,kernel_size=1,activation='relu',padding='same')(input_img)\n",
    "tower1 = Conv2D(filters = 32 , kernel_size = 3 , padding ='same' ,activation = 'relu')(tower1)\n",
    "\n",
    "tower2 = Conv2D(filters = 32 , kernel_size =1 , padding='same' , activation = 'relu')(input_img)\n",
    "tower2 = Conv2D(filters = 32 , kernel_size = 5 , padding='same' , activation = 'relu')(tower2)\n",
    "\n",
    "tower3 = MaxPool2D(pool_size = 3 , strides = 1 , padding='same')(input_img)\n",
    "tower3 = Conv2D(filters=32 , kernel_size=1 , padding = 'same' ,activation = 'relu')(tower3)"
   ]
  },
  {
   "cell_type": "code",
   "execution_count": 130,
   "metadata": {},
   "outputs": [],
   "source": [
    "concat = concatenate([tower1,tower2,tower3],axis=3,name='concatenation')"
   ]
  },
  {
   "cell_type": "code",
   "execution_count": 131,
   "metadata": {},
   "outputs": [
    {
     "name": "stdout",
     "output_type": "stream",
     "text": [
      "input shape  :  (None, 28, 28, 1)\n",
      "tower1 shape :  (None, 28, 28, 32)\n",
      "tower2 shape :  (None, 28, 28, 32)\n",
      "tower3 shape :  (None, 28, 28, 32)\n",
      "output shape :  (None, 28, 28, 96)\n"
     ]
    }
   ],
   "source": [
    "print('input shape  : ',input_img.shape)\n",
    "print('tower1 shape : ',tower1.shape)\n",
    "print('tower2 shape : ',tower2.shape)\n",
    "print('tower3 shape : ',tower3.shape)\n",
    "print('output shape : ',concat.shape)"
   ]
  },
  {
   "cell_type": "code",
   "execution_count": 132,
   "metadata": {},
   "outputs": [
    {
     "name": "stdout",
     "output_type": "stream",
     "text": [
      "Output shape after flattening :  (None, 75264)\n"
     ]
    }
   ],
   "source": [
    "output = Flatten()(concat)\n",
    "print('Output shape after flattening : ',output.shape)"
   ]
  },
  {
   "cell_type": "code",
   "execution_count": 133,
   "metadata": {},
   "outputs": [],
   "source": [
    "output = Dense(units=10,activation='softmax')(output)"
   ]
  },
  {
   "cell_type": "code",
   "execution_count": 134,
   "metadata": {},
   "outputs": [],
   "source": [
    "inception = Model(inputs=input_img , outputs=output)"
   ]
  },
  {
   "cell_type": "code",
   "execution_count": 135,
   "metadata": {
    "collapsed": true
   },
   "outputs": [
    {
     "name": "stdout",
     "output_type": "stream",
     "text": [
      "Model: \"model\"\n",
      "__________________________________________________________________________________________________\n",
      "Layer (type)                    Output Shape         Param #     Connected to                     \n",
      "==================================================================================================\n",
      "input_18 (InputLayer)           [(None, 28, 28, 1)]  0                                            \n",
      "__________________________________________________________________________________________________\n",
      "conv2d_74 (Conv2D)              (None, 28, 28, 32)   64          input_18[0][0]                   \n",
      "__________________________________________________________________________________________________\n",
      "conv2d_76 (Conv2D)              (None, 28, 28, 32)   64          input_18[0][0]                   \n",
      "__________________________________________________________________________________________________\n",
      "max_pooling2d_31 (MaxPooling2D) (None, 28, 28, 1)    0           input_18[0][0]                   \n",
      "__________________________________________________________________________________________________\n",
      "conv2d_75 (Conv2D)              (None, 28, 28, 32)   9248        conv2d_74[0][0]                  \n",
      "__________________________________________________________________________________________________\n",
      "conv2d_77 (Conv2D)              (None, 28, 28, 32)   25632       conv2d_76[0][0]                  \n",
      "__________________________________________________________________________________________________\n",
      "conv2d_78 (Conv2D)              (None, 28, 28, 32)   64          max_pooling2d_31[0][0]           \n",
      "__________________________________________________________________________________________________\n",
      "concatenation (Concatenate)     (None, 28, 28, 96)   0           conv2d_75[0][0]                  \n",
      "                                                                 conv2d_77[0][0]                  \n",
      "                                                                 conv2d_78[0][0]                  \n",
      "__________________________________________________________________________________________________\n",
      "flatten_9 (Flatten)             (None, 75264)        0           concatenation[0][0]              \n",
      "__________________________________________________________________________________________________\n",
      "dense_18 (Dense)                (None, 10)           752650      flatten_9[0][0]                  \n",
      "==================================================================================================\n",
      "Total params: 787,722\n",
      "Trainable params: 787,722\n",
      "Non-trainable params: 0\n",
      "__________________________________________________________________________________________________\n"
     ]
    }
   ],
   "source": [
    "inception.summary()"
   ]
  },
  {
   "cell_type": "code",
   "execution_count": 136,
   "metadata": {},
   "outputs": [],
   "source": [
    "inception.compile(optimizer='adam',loss='categorical_crossentropy',metrics=['acc'])"
   ]
  },
  {
   "cell_type": "code",
   "execution_count": 138,
   "metadata": {},
   "outputs": [
    {
     "name": "stdout",
     "output_type": "stream",
     "text": [
      "Epoch 1/2\n",
      "1875/1875 [==============================] - 374s 199ms/step - loss: 0.1279 - acc: 0.9615 - val_loss: 0.0583 - val_acc: 0.9817\n",
      "Epoch 2/2\n",
      "1875/1875 [==============================] - 370s 197ms/step - loss: 0.0478 - acc: 0.9852 - val_loss: 0.0501 - val_acc: 0.9842\n"
     ]
    },
    {
     "data": {
      "text/plain": [
       "<tensorflow.python.keras.callbacks.History at 0x22fad980390>"
      ]
     },
     "execution_count": 138,
     "metadata": {},
     "output_type": "execute_result"
    }
   ],
   "source": [
    "inception.fit(x_train,y_train,validation_data=(x_test,y_test),batch_size=32,epochs=2)"
   ]
  }
 ],
 "metadata": {
  "kernelspec": {
   "display_name": "Python 3",
   "language": "python",
   "name": "python3"
  },
  "language_info": {
   "codemirror_mode": {
    "name": "ipython",
    "version": 3
   },
   "file_extension": ".py",
   "mimetype": "text/x-python",
   "name": "python",
   "nbconvert_exporter": "python",
   "pygments_lexer": "ipython3",
   "version": "3.7.1"
  }
 },
 "nbformat": 4,
 "nbformat_minor": 2
}
